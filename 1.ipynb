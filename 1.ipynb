{
 "cells": [
  {
   "cell_type": "markdown",
   "metadata": {},
   "source": [
    "# Chapter 1\n",
    "\n",
    "## 1.1\n",
    "\n",
    "**(a)**"
   ]
  },
  {
   "cell_type": "code",
   "execution_count": 1,
   "metadata": {},
   "outputs": [
    {
     "data": {
      "text/plain": [
       "23.25581395348837"
      ]
     },
     "execution_count": 1,
     "metadata": {},
     "output_type": "execute_result"
    }
   ],
   "source": [
    "10 / 43 * 100"
   ]
  },
  {
   "cell_type": "markdown",
   "metadata": {},
   "source": [
    "**(b)**"
   ]
  },
  {
   "cell_type": "code",
   "execution_count": 2,
   "metadata": {},
   "outputs": [
    {
     "data": {
      "text/plain": [
       "4.3478260869565215"
      ]
     },
     "execution_count": 2,
     "metadata": {},
     "output_type": "execute_result"
    }
   ],
   "source": [
    "2 / 46 * 100"
   ]
  },
  {
   "cell_type": "markdown",
   "metadata": {},
   "source": [
    "**(c)** The treatment group."
   ]
  },
  {
   "cell_type": "markdown",
   "metadata": {},
   "source": [
    "**(d)** The observable difference is just natural variation that happened within the first 24 hours."
   ]
  },
  {
   "cell_type": "markdown",
   "metadata": {},
   "source": [
    "## 1.2\n",
    "\n",
    "**(a)**"
   ]
  },
  {
   "cell_type": "code",
   "execution_count": 3,
   "metadata": {},
   "outputs": [
    {
     "data": {
      "text/plain": [
       "77.64705882352942"
      ]
     },
     "execution_count": 3,
     "metadata": {},
     "output_type": "execute_result"
    }
   ],
   "source": [
    "66 / 85 * 100"
   ]
  },
  {
   "cell_type": "markdown",
   "metadata": {},
   "source": [
    "**(b)**"
   ]
  },
  {
   "cell_type": "code",
   "execution_count": 4,
   "metadata": {},
   "outputs": [
    {
     "data": {
      "text/plain": [
       "80.24691358024691"
      ]
     },
     "execution_count": 4,
     "metadata": {},
     "output_type": "execute_result"
    }
   ],
   "source": [
    "65 / 81 * 100"
   ]
  },
  {
   "cell_type": "markdown",
   "metadata": {},
   "source": [
    "**(c)** The control group."
   ]
  },
  {
   "cell_type": "markdown",
   "metadata": {},
   "source": [
    "**(d)** The observable difference is just natural variation."
   ]
  },
  {
   "cell_type": "markdown",
   "metadata": {},
   "source": [
    "## 1.3\n",
    "\n",
    "**(a)** Does an increase in air pollutants result in an increase in the number of occurrences of preterm births?\n",
    "\n",
    "**(b)** 143,196 newborns.\n",
    "\n",
    "**(c)** \n",
    "- Levels of carbon monoxide - discrete numerical. \n",
    "- Nitrogen dioxide - discrete numerical. \n",
    "- Ozone - discrete numerical. \n",
    "- Coarse particulate matter - continuos numerical.\n",
    "- Length of gestation - continuous numerical.\n",
    "- Preterm birth - nominal categorical."
   ]
  },
  {
   "cell_type": "markdown",
   "metadata": {},
   "source": [
    "## 1.5\n",
    "\n",
    "**(a)** What is the effect of age on honesty and self-control?\n",
    "\n",
    "**(b)** 160 children between the ages of 5 and 15.\n",
    "\n",
    "**(c)**\n",
    "- Age - discrete numerical.\n",
    "- Sex - nominal categorical.\n",
    "- Only child - nominal categorical.\n",
    "- Recorded outcome - nominal categorical.\n",
    "- Actual outcome - nominal categorical.\n",
    "- Explicit instructions - nominal categorical."
   ]
  },
  {
   "cell_type": "markdown",
   "metadata": {},
   "source": [
    "## 1.7\n",
    "\n",
    "Received acupuncture - explanatory variable. Pain free - response variable."
   ]
  },
  {
   "cell_type": "markdown",
   "metadata": {},
   "source": [
    "## 1.9\n",
    "\n",
    "**(a)** 150 flowers.\n",
    "\n",
    "**(b)**\n",
    "- Sepal length - continuous numerical.\n",
    "- Sepal width - continuous numerical.\n",
    "- Petal length - continuous numerical.\n",
    "- Petal length - continuous numerical.\n",
    "\n",
    "**(c)**\n",
    "- Species - nominal categorical: setosa, versicolor, virginica."
   ]
  },
  {
   "cell_type": "markdown",
   "metadata": {},
   "source": [
    "## 1.11\n",
    "\n",
    "**(a, b)** \n",
    "- Usage - nominal categorical.\n",
    "- Ownership - nominal categorical.\n",
    "- Geographic location - continuous numerical."
   ]
  },
  {
   "cell_type": "markdown",
   "metadata": {},
   "source": [
    "## 1.13\n",
    "\n",
    "**(a)** The population consists of all births and the sample consists of 143,196 births in Southern California between the years 1989 and 1993.\n",
    "\n",
    "**(b)** No, it can only be generalized to the births in Southern California between the years 1989 and 1993."
   ]
  },
  {
   "cell_type": "markdown",
   "metadata": {},
   "source": [
    "## 1.15\n",
    "\n",
    "**(a)** The population consists of all asthma patients and the sample consists of 600 asthma patients aged 18-69.\n",
    "\n",
    "**(b)** No, findings only apply to asthma patients aged 18-69."
   ]
  },
  {
   "cell_type": "markdown",
   "metadata": {},
   "source": [
    "## 1.17\n",
    "\n",
    "**(a)** An observation.\n",
    "\n",
    "**(b)** A variable.\n",
    "\n",
    "**(c)** A sample statistic.\n",
    "\n",
    "**(d)** A population parameter.\n"
   ]
  },
  {
   "cell_type": "markdown",
   "metadata": {},
   "source": [
    "## 1.19\n",
    "\n",
    "**(a)** Observation study.\n",
    "\n",
    "**(b)** Stratified sampling so that we get include students from each group."
   ]
  },
  {
   "cell_type": "markdown",
   "metadata": {},
   "source": [
    "## 1.21\n",
    "\n",
    "**(a)** A positive association.\n",
    "\n",
    "**(b)** Observation study.\n",
    "\n",
    "**(c)** Wealth. Wealthier countries are more likely to have access to internet and better healthcare."
   ]
  },
  {
   "cell_type": "markdown",
   "metadata": {},
   "source": [
    "## 1.29\n",
    "\n",
    "**(a)** Exam performance.\n",
    "\n",
    "**(b)** Light level. Fluorescent overhead lighting, yellow overhead lighting, no overhead lighting.\n",
    "\n",
    "**(c)** Sex. Male and female."
   ]
  },
  {
   "cell_type": "markdown",
   "metadata": {},
   "source": [
    "## 1.31\n",
    "\n",
    "**(a)** Experimental study.\n",
    "\n",
    "**(b)** \n",
    "- Light level - fluorescent overhead lighting, yellow overhead lighting, no overhead lighting.\n",
    "- Noise level - no noise, construction noise, human chatter noise.\n",
    "- Exam performance - grade.\n",
    "\n",
    "**(c)** It's a blocking variable."
   ]
  },
  {
   "cell_type": "markdown",
   "metadata": {},
   "source": [
    "## 1.35\n",
    "\n",
    "**(a)** Observational study.\n",
    "\n",
    "**(b)** Lucy. Luna.\n",
    "\n",
    "**(c)** Oliver and Lily.\n",
    "\n",
    "**(d)** Positive. The more popular the name, the more common among cats and dogs."
   ]
  },
  {
   "cell_type": "markdown",
   "metadata": {},
   "source": [
    "## 1.37\n",
    "\n",
    "**(a)** Experimental study.\n",
    "\n",
    "**(b)** 25 grams of chia seeds twice a day and a placebo.\n",
    "\n",
    "**(c)** Yes, gender.\n",
    "\n",
    "**(d)** Yes, a placebo was used.\n",
    "\n",
    "**(e)** Yes, because it is a randomized blind experimental study and a blocking variable was considered. "
   ]
  }
 ],
 "metadata": {
  "kernelspec": {
   "display_name": "Python 3",
   "language": "python",
   "name": "python3"
  },
  "language_info": {
   "codemirror_mode": {
    "name": "ipython",
    "version": 3
   },
   "file_extension": ".py",
   "mimetype": "text/x-python",
   "name": "python",
   "nbconvert_exporter": "python",
   "pygments_lexer": "ipython3",
   "version": "3.8.2"
  }
 },
 "nbformat": 4,
 "nbformat_minor": 4
}
