{
 "cells": [
  {
   "cell_type": "markdown",
   "metadata": {},
   "source": [
    "# Chapter 2"
   ]
  },
  {
   "cell_type": "markdown",
   "metadata": {},
   "source": [
    "## 2.1\n",
    "\n",
    "**(a)** Positive association.\n",
    "\n",
    "**(b)** Positive association.\n",
    "\n",
    "**(c)** No, the variables are associated.\n",
    "\n",
    "## 2.5\n",
    "\n",
    "**(a)** Sample mean: \\\\$58. Population mean: \\\\$52.\n",
    "\n",
    "**(b)** Sample mean: 3.59. Population mean: 3.37.\n",
    "\n",
    "## 2.7\n",
    "\n",
    "Fire employees who have the least number of days off.\n",
    "\n",
    "## 2.9\n",
    "\n",
    "**(a)** The mean of (1) is slightly lower than (2) and the standard deviation of (2) is slightly higher than (1).\n",
    "\n",
    "**(b)** The mean of (1) is slightly higher than (2) and the standard deviation of (2) is slightly higher than (1).\n",
    "\n",
    "**(c)** The mean of (1) is lower than (2) but the standard deviation is identical.\n",
    "\n",
    "**(d)** The mean is the same but the standard deviation of (2) is larger than (1)."
   ]
  },
  {
   "cell_type": "markdown",
   "metadata": {},
   "source": [
    "## 2.21\n",
    "\n",
    "**(a)** Easy to compare medical conditions in a more precise way.\n",
    "\n",
    "**(b)** Nothing.\n",
    "\n",
    "**(c)** The bar plot.\n",
    "\n",
    "## 2.23\n",
    "\n",
    "No, the proportion changes among the political ideology groups.\n",
    "\n",
    "## 2.25\n",
    "\n",
    "**(a) i.** False, we have to look at the normalized data.\n",
    "\n",
    "**(a) ii.** True.\n",
    "\n",
    "**(a) iii.** False, association does not imply causation. Also, it was an observational study.\n",
    "\n",
    "**(a) iv.** True.\n",
    "\n",
    "**(b)**"
   ]
  },
  {
   "cell_type": "code",
   "execution_count": 9,
   "metadata": {},
   "outputs": [
    {
     "data": {
      "text/plain": [
       "0.03506158517561552"
      ]
     },
     "execution_count": 9,
     "metadata": {},
     "output_type": "execute_result"
    }
   ],
   "source": [
    "7979 / 227571"
   ]
  },
  {
   "cell_type": "markdown",
   "metadata": {},
   "source": [
    "**(c)**"
   ]
  },
  {
   "cell_type": "code",
   "execution_count": 10,
   "metadata": {},
   "outputs": [
    {
     "data": {
      "text/plain": [
       "2369.91772677538"
      ]
     },
     "execution_count": 10,
     "metadata": {},
     "output_type": "execute_result"
    }
   ],
   "source": [
    "67593 * 7979 / 227571"
   ]
  },
  {
   "cell_type": "markdown",
   "metadata": {},
   "source": [
    "**(d) i.** $H_0$: The treatment has no effect on the cardiovascular problems rate, and the observed difference was due to chance. $H_A$: The treatment has an effect on the cardiovascular problems rate. The difference was not due to chance and the treatment affected the rate of cardiovascular problems.\n",
    "\n",
    "**(d) ii.** More.\n",
    "\n",
    "**(d) iii.** It suggests that taking rosiglitazone and having cardiovascular problems are associated.\n",
    "\n",
    "## 2.27\n",
    "\n",
    "**(a)** Decrease.\n",
    "\n",
    "**(b)**"
   ]
  },
  {
   "cell_type": "code",
   "execution_count": 11,
   "metadata": {},
   "outputs": [
    {
     "data": {
      "text/plain": [
       "73.6"
      ]
     },
     "execution_count": 11,
     "metadata": {},
     "output_type": "execute_result"
    }
   ],
   "source": [
    "(74 * 24 + 64) / 25"
   ]
  },
  {
   "cell_type": "markdown",
   "metadata": {},
   "source": [
    "**(c)** Increase.\n",
    "\n",
    "## 2.31\n",
    "\n",
    "The data suggests that actresses are awarded when they are younger, while actors are awarded when they are a bit older."
   ]
  }
 ],
 "metadata": {
  "kernelspec": {
   "display_name": "Python 3",
   "language": "python",
   "name": "python3"
  },
  "language_info": {
   "codemirror_mode": {
    "name": "ipython",
    "version": 3
   },
   "file_extension": ".py",
   "mimetype": "text/x-python",
   "name": "python",
   "nbconvert_exporter": "python",
   "pygments_lexer": "ipython3",
   "version": "3.8.2"
  }
 },
 "nbformat": 4,
 "nbformat_minor": 4
}
